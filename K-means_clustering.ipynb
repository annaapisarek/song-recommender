{
 "cells": [
  {
   "cell_type": "code",
   "execution_count": null,
   "id": "0b9194f7-9704-4578-8fc3-27b4b5ee3396",
   "metadata": {},
   "outputs": [],
   "source": [
    "import pandas as pd\n",
    "from sklearn.cluster import KMeans\n",
    "from sklearn.preprocessing import StandardScaler\n",
    "from matplotlib.lines import Line2D\n",
    "import seaborn as sns\n",
    "import matplotlib.pyplot as plt"
   ]
  },
  {
   "cell_type": "code",
   "execution_count": null,
   "id": "5034050a-fb3d-49a2-8ef0-3c7eeccd5f6e",
   "metadata": {},
   "outputs": [],
   "source": [
    "# Load Spotify song data into a DataFrame\n",
    "df = pd.read_csv('spotify_songs.csv')"
   ]
  },
  {
   "cell_type": "code",
   "execution_count": null,
   "id": "60000b89-1429-4538-b270-3c8dec4a6527",
   "metadata": {},
   "outputs": [],
   "source": [
    "df.head(5)"
   ]
  },
  {
   "cell_type": "code",
   "execution_count": null,
   "id": "65078efd-8eec-4ae6-9bea-0354f98696f8",
   "metadata": {},
   "outputs": [],
   "source": [
    "genres = df['final genre'].str.get_dummies(sep=',')"
   ]
  },
  {
   "cell_type": "code",
   "execution_count": null,
   "id": "2b7652d5-6130-41bf-be13-587f1c8933bc",
   "metadata": {},
   "outputs": [],
   "source": [
    "genres"
   ]
  },
  {
   "cell_type": "code",
   "execution_count": null,
   "id": "7fcf4fc3-a92c-487e-856e-c43ff3bc032d",
   "metadata": {},
   "outputs": [],
   "source": [
    "# Select the numerical features to use for clustering\n",
    "features = ['tempo', 'energy', 'valence','popularity','danceability','instrumentalness', 'acousticness']\n",
    "\n"
   ]
  },
  {
   "cell_type": "code",
   "execution_count": null,
   "id": "1f0a9100-715c-41c5-89ca-c7ea963ab1cc",
   "metadata": {},
   "outputs": [],
   "source": [
    "df_features = df[features]"
   ]
  },
  {
   "cell_type": "code",
   "execution_count": null,
   "id": "7b3449c0-a22b-4e4e-bc73-281d36918376",
   "metadata": {},
   "outputs": [],
   "source": [
    "df_features = pd.concat([df_features, genres], axis=1)"
   ]
  },
  {
   "cell_type": "code",
   "execution_count": null,
   "id": "f44c2e7e-51f3-4097-8371-5090d395f487",
   "metadata": {},
   "outputs": [],
   "source": [
    "df_features"
   ]
  },
  {
   "cell_type": "code",
   "execution_count": null,
   "id": "07052130-f1eb-463e-a895-559b12537c1a",
   "metadata": {},
   "outputs": [],
   "source": [
    "\n",
    "# Calculate the correlation matrix\n",
    "correlation_matrix = df_features.corr()\n",
    "\n",
    "# Plot the correlation matrix \n",
    "plt.figure(figsize=(10, 8))\n",
    "sns.heatmap(correlation_matrix, annot=True, cmap='coolwarm', fmt=\".2f\", linewidths=0.5)\n",
    "plt.title(\"Feature Correlation Matrix\")\n",
    "plt.show()\n"
   ]
  },
  {
   "cell_type": "markdown",
   "id": "8a94380c-993d-4204-8183-d8ff2de696a7",
   "metadata": {},
   "source": [
    "Danceability and valence are highly correlated - I will remove valence. Popularity can also skew results as there is no relation between the songs just because they are both equally popular. Also energy and accousticness are highly correlated."
   ]
  },
  {
   "cell_type": "code",
   "execution_count": null,
   "id": "560d7182-5894-44c8-b3f3-f57d0adbdcbe",
   "metadata": {},
   "outputs": [],
   "source": [
    "df_features = df_features.drop(columns=['popularity', 'valence','acousticness','Other'])"
   ]
  },
  {
   "cell_type": "code",
   "execution_count": null,
   "id": "0131bbd1-0d16-4aa0-a638-2a7484b91fed",
   "metadata": {},
   "outputs": [],
   "source": [
    "# Standardize the feature values\n",
    "scaler = StandardScaler()\n",
    "X = scaler.fit_transform(df_features)\n",
    "\n"
   ]
  },
  {
   "cell_type": "code",
   "execution_count": null,
   "id": "5e7c2a81-02d9-495a-b28a-dbf828698233",
   "metadata": {},
   "outputs": [],
   "source": [
    "# Determine the optimal number of clusters using the elbow method\n",
    "wcss = []\n",
    "for i in range(1, 11):\n",
    "    kmeans = KMeans(n_clusters=i, init='k-means++', random_state=42)\n",
    "    kmeans.fit(X)\n",
    "    wcss.append(kmeans.inertia_)\n",
    "\n"
   ]
  },
  {
   "cell_type": "code",
   "execution_count": null,
   "id": "43ee868a-e902-4136-8d4c-8322d202f62a",
   "metadata": {},
   "outputs": [],
   "source": [
    "# Plot the elbow curve to find the optimal number of clusters\n",
    "import matplotlib.pyplot as plt\n",
    "plt.plot(range(1, 11), wcss)\n",
    "plt.title('Elbow Method')\n",
    "plt.xlabel('Number of clusters')\n",
    "plt.ylabel('WCSS')\n",
    "plt.show()\n",
    "\n"
   ]
  },
  {
   "cell_type": "code",
   "execution_count": null,
   "id": "c9b46ff8-833f-42a8-98ae-419a0c386cb0",
   "metadata": {},
   "outputs": [],
   "source": [
    "# Perform K-means clustering\n",
    "num_clusters = 4 \n",
    "kmeans = KMeans(n_clusters=num_clusters, init='k-means++', random_state=42)\n",
    "labels = kmeans.fit_predict(X)\n",
    "\n"
   ]
  },
  {
   "cell_type": "code",
   "execution_count": null,
   "id": "01ad129d-adb9-480a-a2b1-d844e5e01a7c",
   "metadata": {},
   "outputs": [],
   "source": [
    "import matplotlib.pyplot as plt\n",
    "import numpy as np\n",
    "\n",
    "# Visualize the clusters\n",
    "plt.figure(figsize=(8, 6))\n",
    "plt.scatter(X[:, 0], X[:, 1], c=labels, cmap='viridis')\n",
    "plt.scatter(kmeans.cluster_centers_[:, 0], kmeans.cluster_centers_[:, 1], marker='x', s=200, linewidths=3, color='red')\n",
    "plt.title(f'K-Means Clustering (k={num_clusters})')\n",
    "plt.xlabel('Feature 1')\n",
    "plt.ylabel('Feature 2')\n",
    "plt.show()"
   ]
  },
  {
   "cell_type": "code",
   "execution_count": null,
   "id": "c7b6a6bb-e55c-44a9-a08e-99c3c34afb30",
   "metadata": {},
   "outputs": [],
   "source": [
    "from sklearn.decomposition import PCA\n",
    "import matplotlib.pyplot as plt\n",
    "\n",
    "# Perform PCA to reduce dimensions\n",
    "pca = PCA(n_components=2)\n",
    "X_pca = pca.fit_transform(X)\n",
    "\n"
   ]
  },
  {
   "cell_type": "code",
   "execution_count": null,
   "id": "e57b4cdc-3d05-4057-9978-51087c465b09",
   "metadata": {},
   "outputs": [],
   "source": [
    "# Visualize the PCA-transformed clusters\n",
    "plt.figure(figsize=(8, 6))\n",
    "plt.scatter(X_pca[:, 0], X_pca[:, 1], c=labels, cmap='viridis')\n",
    "plt.scatter(pca.components_[0, 0], pca.components_[0, 1], s=200, linewidths=3, color='red')\n",
    "plt.scatter(pca.components_[1, 0], pca.components_[1, 1], s=200, linewidths=3, color='green')\n",
    "plt.title(f'K-Means Clustering after PCA')\n",
    "plt.xlabel('Component 1')\n",
    "plt.ylabel('Component 2')\n",
    "plt.show()"
   ]
  },
  {
   "cell_type": "code",
   "execution_count": null,
   "id": "7a2ebcf3-3d69-4766-bc8f-283c4fee32cf",
   "metadata": {},
   "outputs": [],
   "source": [
    "# Add the cluster labels back to the Dataframe\n",
    "df['cluster'] = labels"
   ]
  },
  {
   "cell_type": "code",
   "execution_count": null,
   "id": "580edb81-ed54-4d70-ba10-fed4fa2c6d20",
   "metadata": {},
   "outputs": [],
   "source": [
    "import seaborn as sns\n",
    "import matplotlib.pyplot as plt\n",
    "\n",
    "# Compute the mean and standard deviation of each feature for each cluster\n",
    "cluster_stats = []\n",
    "for cluster_id in range(num_clusters):\n",
    "    cluster_data = X[labels == cluster_id]\n",
    "    cluster_mean = cluster_data.mean(axis=0)\n",
    "    cluster_std = cluster_data.std(axis=0)\n",
    "    cluster_stats.append({\n",
    "        'Cluster': cluster_id,\n",
    "        'Tempo Mean': cluster_mean[0], \n",
    "        'Tempo Std': cluster_std[0],\n",
    "        'Energy Mean': cluster_mean[1],\n",
    "        'Energy Std': cluster_std[1],\n",
    "        'Danceability Mean': cluster_mean[2],\n",
    "        'Danceability Std': cluster_std[2],\n",
    "        'Instrumentalness Mean': cluster_mean[3],\n",
    "        'Instrumentalness Std': cluster_std[3]\n",
    "    })\n",
    "\n",
    "# Visualize the cluster characteristics\n",
    "fig, axes = plt.subplots(2, 2, figsize=(12, 8))\n",
    "features = ['Tempo', 'Energy', 'Danceability', 'Instrumentalness']\n",
    "for i, feature in enumerate(features):\n",
    "    ax = axes[i // 2, i % 2]\n",
    "    ax.bar(range(num_clusters), [stats[f\"{feature} Mean\"] for stats in cluster_stats])\n",
    "    ax.set_title(f\"{feature} Mean by Cluster\")\n",
    "    ax.set_xlabel('Cluster')\n",
    "    ax.set_ylabel(f\"{feature} Mean\")\n",
    "\n",
    "plt.tight_layout()\n",
    "plt.show()\n",
    "\n",
    "fig, axes = plt.subplots(2, 2, figsize=(12, 8))\n",
    "for i, feature in enumerate(features):\n",
    "    ax = axes[i // 2, i % 2]\n",
    "    ax.bar(range(num_clusters), [stats[f\"{feature} Std\"] for stats in cluster_stats])\n",
    "    ax.set_title(f\"{feature} Std by Cluster\")\n",
    "    ax.set_xlabel('Cluster')\n",
    "    ax.set_ylabel(f\"{feature} Std\")\n",
    "\n",
    "plt.tight_layout()\n",
    "plt.show()"
   ]
  },
  {
   "cell_type": "code",
   "execution_count": null,
   "id": "202a5c63-d26c-41c2-a7b8-a4f3d991979f",
   "metadata": {},
   "outputs": [],
   "source": [
    "import seaborn as sns\n",
    "import matplotlib.pyplot as plt\n",
    "import pandas as pd\n",
    "\n",
    "# Compute the feature values for each cluster\n",
    "cluster_data = []\n",
    "for cluster_id in range(num_clusters):\n",
    "    cluster_samples = X[labels == cluster_id]\n",
    "    cluster_data.append(pd.DataFrame({\n",
    "        'Cluster': [cluster_id] * len(cluster_samples),\n",
    "        'Tempo': cluster_samples[:, 0],\n",
    "        'Energy': cluster_samples[:, 1],\n",
    "        'Danceability': cluster_samples[:, 2],\n",
    "        'Instrumentalness': cluster_samples[:, 3]\n",
    "    }))\n",
    "\n",
    "# Concatenate the cluster data into a single DataFrame\n",
    "cluster_df = pd.concat(cluster_data, ignore_index=True)\n",
    "\n",
    "# Visualize the cluster characteristics using box plots\n",
    "plt.figure(figsize=(12, 8))\n",
    "for i, feature in enumerate(['Tempo', 'Energy', 'Danceability', 'Instrumentalness']):\n",
    "    plt.subplot(2, 2, i+1)\n",
    "    sns.boxplot(x='Cluster', y=feature, data=cluster_df)\n",
    "    plt.title(f\"{feature} by Cluster\")\n",
    "    plt.xlabel('Cluster')\n",
    "    plt.ylabel(feature)\n",
    "\n",
    "plt.tight_layout()\n",
    "plt.show()"
   ]
  },
  {
   "cell_type": "code",
   "execution_count": null,
   "id": "dc8ca634-c721-4e62-aa1f-afe5f7640086",
   "metadata": {},
   "outputs": [],
   "source": [
    "# Create the popularity_score column\n",
    "bins = [0, 25, 50, 75, 100]  \n",
    "labels = ['Low', 'Medium', 'High', 'Highest']\n",
    "\n",
    "df['popularity_score'] = pd.cut(df['popularity'], bins=bins, labels=labels, right=False)\n"
   ]
  },
  {
   "cell_type": "code",
   "execution_count": null,
   "id": "ba9956db-7a70-4bbe-910c-e21e4b8f4f5a",
   "metadata": {},
   "outputs": [],
   "source": [
    "#Export to csv\n",
    "df.to_csv('spotify_songs.csv', index=False)"
   ]
  },
  {
   "cell_type": "code",
   "execution_count": null,
   "id": "160d91b9-d699-47af-85c3-2208dc9648fb",
   "metadata": {},
   "outputs": [],
   "source": [
    "df.head(5)"
   ]
  }
 ],
 "metadata": {
  "kernelspec": {
   "display_name": "Python 3 (ipykernel)",
   "language": "python",
   "name": "python3"
  },
  "language_info": {
   "codemirror_mode": {
    "name": "ipython",
    "version": 3
   },
   "file_extension": ".py",
   "mimetype": "text/x-python",
   "name": "python",
   "nbconvert_exporter": "python",
   "pygments_lexer": "ipython3",
   "version": "3.11.7"
  }
 },
 "nbformat": 4,
 "nbformat_minor": 5
}
